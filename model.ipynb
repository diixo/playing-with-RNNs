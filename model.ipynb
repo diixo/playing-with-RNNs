{
 "cells": [
  {
   "cell_type": "code",
   "execution_count": 30,
   "metadata": {
    "collapsed": false
   },
   "outputs": [],
   "source": [
    "import tensorflow as tf\n",
    "import math\n",
    "import numpy as np\n",
    "from nltk.tokenize import RegexpTokenizer\n",
    "import pandas as pd\n",
    "import itertools\n",
    "from nltk.tokenize import RegexpTokenizer\n",
    "from functools import partial"
   ]
  },
  {
   "cell_type": "code",
   "execution_count": 21,
   "metadata": {
    "collapsed": false
   },
   "outputs": [
    {
     "name": "stderr",
     "output_type": "stream",
     "text": [
      "b'Skipping line 1681: expected 2 fields, saw 3\\nSkipping line 1765: expected 2 fields, saw 3\\nSkipping line 1984: expected 2 fields, saw 3\\nSkipping line 2046: expected 2 fields, saw 3\\nSkipping line 2086: expected 2 fields, saw 3\\nSkipping line 2313: expected 2 fields, saw 3\\nSkipping line 2314: expected 2 fields, saw 3\\n'\n"
     ]
    },
    {
     "name": "stdout",
     "output_type": "stream",
     "text": [
      "3325 (2330,) (2330,)\n"
     ]
    }
   ],
   "source": [
    "# conv.txt\n",
    "tokenizer = RegexpTokenizer(r'\\w+')\n",
    "def process_sentence(x, eos=False):\n",
    "#     x = x.split()\n",
    "    x = tokenizer.tokenize(x)\n",
    "    x = [i.lower() for i in x]\n",
    "    if eos:\n",
    "        x = ['eos'] + x + ['eos']\n",
    "    return x\n",
    "\n",
    "def one_hot(x):\n",
    "    t = [0] * vocab_size\n",
    "    t[x] = 1\n",
    "    return t\n",
    "    \n",
    "def sent_encode(x):\n",
    "    x = [w_i[i] for i in x]\n",
    "    x = map(one_hot, x)\n",
    "    return list(x)\n",
    "\n",
    "data=pd.read_csv('conv.txt', delimiter='\\t', error_bad_lines=False, header=None)\n",
    "data.dropna(inplace=True)\n",
    "inp = list(map(partial(process_sentence), data[0].values))\n",
    "out = list(map(partial(process_sentence, eos=True), data[1].values))\n",
    "words=np.r_[inp, out]\n",
    "words = list(set(itertools.chain(*words)))\n",
    "vocab_size=len(words)\n",
    "i_w = dict(enumerate(words))\n",
    "w_i = {v:k for k, v in i_w.items()}\n",
    "inp = np.array(list(map(sent_encode, inp)))\n",
    "out = np.array(list(map(sent_encode, out)))\n",
    "print(vocab_size, inp.shape, out.shape)"
   ]
  },
  {
   "cell_type": "code",
   "execution_count": 25,
   "metadata": {
    "collapsed": false
   },
   "outputs": [],
   "source": [
    "batch_size = 20\n",
    "input_size = len(inp[0][0])\n",
    "dim = 256\n",
    "input_size, dim\n",
    "print_step = 20\n",
    "iterations = 1000"
   ]
  },
  {
   "cell_type": "code",
   "execution_count": 23,
   "metadata": {
    "collapsed": false
   },
   "outputs": [
    {
     "name": "stdout",
     "output_type": "stream",
     "text": [
      "70 139\n"
     ]
    }
   ],
   "source": [
    "max_length1 = max([len(x) for x in inp])\n",
    "max_length2 = max([len(x) for x in out])\n",
    "print(max_length1, max_length2)\n",
    "def get_batch(size):\n",
    "    idx = np.random.choice(range(len(inp)), size=size, replace=False)\n",
    "    x, y, y_ = inp[idx], list(map(lambda x: x[:-1], out[idx])), list(map(lambda x: x[1:], out[idx]))\n",
    "    x = list(map(lambda z: [i for i in z] +\n",
    "                 [[0] * input_size for i in range(max_length1 - len(z))], x))\n",
    "    y = list(map(lambda z: [i for i in z] +\n",
    "                 [[0] * input_size for i in range(max_length2 - len(z))], y))\n",
    "    y_ = list(map(lambda z: [i for i in z] +\n",
    "                 [[0] * input_size for i in range(max_length2 - len(z))], y_))\n",
    "    x, y, y_ = np.array(x), np.array(y), np.array(y_)\n",
    "    return x, y, y_\n",
    "a, b, c = get_batch(5)\n",
    "# print(np.argmax(b[0], axis=1))\n",
    "# print(np.argmax(c[0], axis=1))"
   ]
  },
  {
   "cell_type": "code",
   "execution_count": 32,
   "metadata": {
    "collapsed": false
   },
   "outputs": [
    {
     "name": "stdout",
     "output_type": "stream",
     "text": [
      "5.84926898479\n",
      "[ 767 1524 1524 1524 1524 1524 1524]\n",
      "[ 767 1524 1524 1524 1524 1524 1524]\n",
      "[ 767 1226]\n",
      "[ 767 1524 1524 1524 1524]\n",
      "[ 767 1524 1524 1524 1524 1524 1524 1524 1524 1524]\n",
      "5.43368396759\n",
      "[ 767 1524 1524 1524 1524 1524 1524 1524 1524 1524 1524 1524 1524 1524 1524\n",
      " 1524 1524 1524 1524 1524 1524 1524 1524 1524 1524]\n",
      "[ 767 1226 1524 1524 1524 1524 1524 1524 1524 1524]\n",
      "[ 767 1524 1524 1524 1524 1524 1524 1524 1524 1524 1524 1524 1524 1524 1524\n",
      " 1524]\n",
      "[ 767 1226 1524 1524 1524 1524 1524 1524 1524 1524 1524 1524 1524 1524]\n",
      "[ 767 1226]\n",
      "5.57905776501\n",
      "[ 767 1226]\n",
      "[ 767 1524 1524 1524 1524 1524 1524 1524 1524 1524]\n",
      "[ 767 1226 1524 1524 1524 1524 1524 1524 1524 1524 1524]\n",
      "[ 767 1226 1524 1524 1524 1524 1524 1524 1524 1524 1524 1524 1524 1524 1524]\n",
      "[ 767 1226 1524 1524 1524 1524 1524 1524 1524 1524]\n"
     ]
    },
    {
     "ename": "KeyboardInterrupt",
     "evalue": "",
     "output_type": "error",
     "traceback": [
      "\u001b[0;31m---------------------------------------------------------------------------\u001b[0m",
      "\u001b[0;31mKeyboardInterrupt\u001b[0m                         Traceback (most recent call last)",
      "\u001b[0;32m<ipython-input-32-7debb560ab77>\u001b[0m in \u001b[0;36m<module>\u001b[0;34m()\u001b[0m\n\u001b[1;32m     66\u001b[0m         \u001b[0;32mfor\u001b[0m \u001b[0mi\u001b[0m \u001b[0;32min\u001b[0m \u001b[0mrange\u001b[0m\u001b[0;34m(\u001b[0m\u001b[0miterations\u001b[0m\u001b[0;34m)\u001b[0m\u001b[0;34m:\u001b[0m\u001b[0;34m\u001b[0m\u001b[0m\n\u001b[1;32m     67\u001b[0m             \u001b[0ma\u001b[0m\u001b[0;34m,\u001b[0m \u001b[0mb\u001b[0m\u001b[0;34m,\u001b[0m \u001b[0mc\u001b[0m \u001b[0;34m=\u001b[0m \u001b[0mget_batch\u001b[0m\u001b[0;34m(\u001b[0m\u001b[0mbatch_size\u001b[0m\u001b[0;34m)\u001b[0m\u001b[0;34m\u001b[0m\u001b[0m\n\u001b[0;32m---> 68\u001b[0;31m             \u001b[0m_\u001b[0m\u001b[0;34m,\u001b[0m \u001b[0ml\u001b[0m \u001b[0;34m=\u001b[0m \u001b[0msess\u001b[0m\u001b[0;34m.\u001b[0m\u001b[0mrun\u001b[0m\u001b[0;34m(\u001b[0m\u001b[0;34m[\u001b[0m\u001b[0moptimize_op\u001b[0m\u001b[0;34m,\u001b[0m \u001b[0mloss\u001b[0m\u001b[0;34m]\u001b[0m\u001b[0;34m,\u001b[0m \u001b[0;34m{\u001b[0m\u001b[0menc_seq\u001b[0m\u001b[0;34m:\u001b[0m \u001b[0ma\u001b[0m\u001b[0;34m,\u001b[0m \u001b[0mdec_seq\u001b[0m\u001b[0;34m:\u001b[0m \u001b[0mb\u001b[0m\u001b[0;34m,\u001b[0m \u001b[0mdec_tar\u001b[0m\u001b[0;34m:\u001b[0m \u001b[0mc\u001b[0m\u001b[0;34m}\u001b[0m\u001b[0;34m)\u001b[0m\u001b[0;34m\u001b[0m\u001b[0m\n\u001b[0m\u001b[1;32m     69\u001b[0m             \u001b[0mavg_loss\u001b[0m \u001b[0;34m+=\u001b[0m \u001b[0ml\u001b[0m\u001b[0;34m\u001b[0m\u001b[0m\n\u001b[1;32m     70\u001b[0m             \u001b[0;32mif\u001b[0m \u001b[0mi\u001b[0m \u001b[0;34m%\u001b[0m \u001b[0mprint_step\u001b[0m \u001b[0;34m==\u001b[0m \u001b[0;36m0\u001b[0m \u001b[0;32mand\u001b[0m \u001b[0mi\u001b[0m \u001b[0;34m!=\u001b[0m \u001b[0;36m0\u001b[0m\u001b[0;34m:\u001b[0m\u001b[0;34m\u001b[0m\u001b[0m\n",
      "\u001b[0;32m/usr/local/lib/python3.5/dist-packages/tensorflow/python/client/session.py\u001b[0m in \u001b[0;36mrun\u001b[0;34m(self, fetches, feed_dict, options, run_metadata)\u001b[0m\n\u001b[1;32m    764\u001b[0m     \u001b[0;32mtry\u001b[0m\u001b[0;34m:\u001b[0m\u001b[0;34m\u001b[0m\u001b[0m\n\u001b[1;32m    765\u001b[0m       result = self._run(None, fetches, feed_dict, options_ptr,\n\u001b[0;32m--> 766\u001b[0;31m                          run_metadata_ptr)\n\u001b[0m\u001b[1;32m    767\u001b[0m       \u001b[0;32mif\u001b[0m \u001b[0mrun_metadata\u001b[0m\u001b[0;34m:\u001b[0m\u001b[0;34m\u001b[0m\u001b[0m\n\u001b[1;32m    768\u001b[0m         \u001b[0mproto_data\u001b[0m \u001b[0;34m=\u001b[0m \u001b[0mtf_session\u001b[0m\u001b[0;34m.\u001b[0m\u001b[0mTF_GetBuffer\u001b[0m\u001b[0;34m(\u001b[0m\u001b[0mrun_metadata_ptr\u001b[0m\u001b[0;34m)\u001b[0m\u001b[0;34m\u001b[0m\u001b[0m\n",
      "\u001b[0;32m/usr/local/lib/python3.5/dist-packages/tensorflow/python/client/session.py\u001b[0m in \u001b[0;36m_run\u001b[0;34m(self, handle, fetches, feed_dict, options, run_metadata)\u001b[0m\n\u001b[1;32m    935\u001b[0m                 ' to a larger type (e.g. int64).')\n\u001b[1;32m    936\u001b[0m \u001b[0;34m\u001b[0m\u001b[0m\n\u001b[0;32m--> 937\u001b[0;31m           \u001b[0mnp_val\u001b[0m \u001b[0;34m=\u001b[0m \u001b[0mnp\u001b[0m\u001b[0;34m.\u001b[0m\u001b[0masarray\u001b[0m\u001b[0;34m(\u001b[0m\u001b[0msubfeed_val\u001b[0m\u001b[0;34m,\u001b[0m \u001b[0mdtype\u001b[0m\u001b[0;34m=\u001b[0m\u001b[0msubfeed_dtype\u001b[0m\u001b[0;34m)\u001b[0m\u001b[0;34m\u001b[0m\u001b[0m\n\u001b[0m\u001b[1;32m    938\u001b[0m \u001b[0;34m\u001b[0m\u001b[0m\n\u001b[1;32m    939\u001b[0m           \u001b[0;32mif\u001b[0m \u001b[0;32mnot\u001b[0m \u001b[0msubfeed_t\u001b[0m\u001b[0;34m.\u001b[0m\u001b[0mget_shape\u001b[0m\u001b[0;34m(\u001b[0m\u001b[0;34m)\u001b[0m\u001b[0;34m.\u001b[0m\u001b[0mis_compatible_with\u001b[0m\u001b[0;34m(\u001b[0m\u001b[0mnp_val\u001b[0m\u001b[0;34m.\u001b[0m\u001b[0mshape\u001b[0m\u001b[0;34m)\u001b[0m\u001b[0;34m:\u001b[0m\u001b[0;34m\u001b[0m\u001b[0m\n",
      "\u001b[0;32m/usr/local/lib/python3.5/dist-packages/numpy/core/numeric.py\u001b[0m in \u001b[0;36masarray\u001b[0;34m(a, dtype, order)\u001b[0m\n\u001b[1;32m    480\u001b[0m \u001b[0;34m\u001b[0m\u001b[0m\n\u001b[1;32m    481\u001b[0m     \"\"\"\n\u001b[0;32m--> 482\u001b[0;31m     \u001b[0;32mreturn\u001b[0m \u001b[0marray\u001b[0m\u001b[0;34m(\u001b[0m\u001b[0ma\u001b[0m\u001b[0;34m,\u001b[0m \u001b[0mdtype\u001b[0m\u001b[0;34m,\u001b[0m \u001b[0mcopy\u001b[0m\u001b[0;34m=\u001b[0m\u001b[0;32mFalse\u001b[0m\u001b[0;34m,\u001b[0m \u001b[0morder\u001b[0m\u001b[0;34m=\u001b[0m\u001b[0morder\u001b[0m\u001b[0;34m)\u001b[0m\u001b[0;34m\u001b[0m\u001b[0m\n\u001b[0m\u001b[1;32m    483\u001b[0m \u001b[0;34m\u001b[0m\u001b[0m\n\u001b[1;32m    484\u001b[0m \u001b[0;32mdef\u001b[0m \u001b[0masanyarray\u001b[0m\u001b[0;34m(\u001b[0m\u001b[0ma\u001b[0m\u001b[0;34m,\u001b[0m \u001b[0mdtype\u001b[0m\u001b[0;34m=\u001b[0m\u001b[0;32mNone\u001b[0m\u001b[0;34m,\u001b[0m \u001b[0morder\u001b[0m\u001b[0;34m=\u001b[0m\u001b[0;32mNone\u001b[0m\u001b[0;34m)\u001b[0m\u001b[0;34m:\u001b[0m\u001b[0;34m\u001b[0m\u001b[0m\n",
      "\u001b[0;31mKeyboardInterrupt\u001b[0m: "
     ]
    }
   ],
   "source": [
    "tf.reset_default_graph()\n",
    "with tf.Graph().as_default() as graph:\n",
    "    def length(sequence):\n",
    "        ''' returns length of sequences in a batch '''\n",
    "        used = tf.sign(tf.reduce_max(tf.abs(sequence), reduction_indices=2))\n",
    "        length = tf.reduce_sum(used, reduction_indices=1)\n",
    "        length = tf.cast(length, tf.int32)\n",
    "        return length\n",
    "    \n",
    "    def cost(output, target):\n",
    "        cross_entropy = target * tf.log(output)\n",
    "        cross_entropy = -tf.reduce_sum(cross_entropy, reduction_indices=2)\n",
    "        mask = tf.sign(tf.reduce_max(tf.abs(target), reduction_indices=2))\n",
    "        cross_entropy *= mask\n",
    "        cross_entropy = tf.reduce_sum(cross_entropy, reduction_indices=1)\n",
    "        cross_entropy /= tf.reduce_sum(mask, reduction_indices=1)\n",
    "        return tf.reduce_mean(cross_entropy)\n",
    "    \n",
    "    def compute_loss(y, t, l):\n",
    "        batch_loss = [tf.reduce_sum(tf.nn.softmax_cross_entropy_with_logits(y[i], t[i]))\n",
    "                      / tf.cast(l[i], tf.float32)\n",
    "                      for i in range(batch_size)]\n",
    "        batch_loss_mean = tf.reduce_mean(batch_loss)\n",
    "        return batch_loss_mean\n",
    "    \n",
    "    def trim_zeros(seq, length):\n",
    "        x_ = [tf.slice(seq[i], [0, 0], [length[i], input_size]) for i in range(batch_size)]\n",
    "        return x_\n",
    "    \n",
    "    def display_seq(seq):\n",
    "        def seq_id_to_word(x):\n",
    "            return [i_w[i] for i in x]\n",
    "        temp=list(map(np.trim_zeros, np.argmax(seq, axis=2)))\n",
    "        temp = list(map(seq_id_to_word, temp))\n",
    "        for t in temp:\n",
    "            print(' '.join(t))\n",
    "    \n",
    "    with tf.variable_scope('encoder'):\n",
    "        enc_seq = tf.placeholder(tf.float32, [batch_size, max_length1, input_size])\n",
    "        enc_seq_length = length(enc_seq)\n",
    "        enc_out, enc_final = tf.nn.dynamic_rnn(tf.nn.rnn_cell.GRUCell(dim), enc_seq, \n",
    "                                      sequence_length=enc_seq_length, dtype=tf.float32)\n",
    "        \n",
    "    with tf.variable_scope('decoder'):    \n",
    "        dec_tar = tf.placeholder(shape=[batch_size, max_length2, input_size], dtype=tf.float32)\n",
    "        dec_seq = tf.placeholder(tf.float32, [batch_size, max_length2, input_size])\n",
    "        dec_seq_length = length(dec_seq)\n",
    "        dec_out = tf.nn.dynamic_rnn(tf.nn.rnn_cell.GRUCell(dim), \n",
    "                                        dec_seq, sequence_length=dec_seq_length, initial_state=enc_final)[0]\n",
    "        \n",
    "    Wy = tf.Variable(tf.random_uniform(shape=[dim, input_size],\n",
    "                                      minval=-0.1, maxval=0.1), dtype=tf.float32)\n",
    "    by = tf.Variable(tf.zeros(shape=[input_size]))\n",
    "    yp = tf.einsum('ijk,kl->ijl', dec_out, Wy) + by\n",
    "    yp_t = trim_zeros(yp, dec_seq_length)\n",
    "    tar_t = trim_zeros(dec_tar, dec_seq_length)\n",
    "    loss = compute_loss(yp_t, tar_t, dec_seq_length)\n",
    "    optimize_op = tf.train.AdagradOptimizer(0.01).minimize(loss)\n",
    "    saver = tf.train.Saver()\n",
    "    with tf.Session(config=tf.ConfigProto(allow_soft_placement=True), graph=graph) as sess:\n",
    "#         sess.run(tf.initialize_all_variables())\n",
    "        new_saver = tf.train.import_meta_graph('model.ckpt.meta')\n",
    "        new_saver.restore(sess, tf.train.latest_checkpoint('./'))\n",
    "        avg_loss = 0\n",
    "        \n",
    "        for i in range(iterations):\n",
    "            a, b, c = get_batch(batch_size)\n",
    "            _, l = sess.run([optimize_op, loss], {enc_seq: a, dec_seq: b, dec_tar: c})\n",
    "            avg_loss += l\n",
    "            if i % print_step == 0 and i != 0:\n",
    "                print(avg_loss / print_step)                \n",
    "                o, t = sess.run([yp_t, tar_t], {enc_seq: a, dec_seq: b, dec_tar: c})\n",
    "                for i in o[:5]:\n",
    "                    print(np.argmax(i, axis=1))\n",
    "                avg_loss = 0\n",
    "                saver.save(sess, 'model.ckpt')"
   ]
  },
  {
   "cell_type": "code",
   "execution_count": null,
   "metadata": {
    "collapsed": true
   },
   "outputs": [],
   "source": []
  }
 ],
 "metadata": {
  "kernelspec": {
   "display_name": "Python 3",
   "language": "python",
   "name": "python3"
  },
  "language_info": {
   "codemirror_mode": {
    "name": "ipython",
    "version": 3
   },
   "file_extension": ".py",
   "mimetype": "text/x-python",
   "name": "python",
   "nbconvert_exporter": "python",
   "pygments_lexer": "ipython3",
   "version": "3.5.2"
  }
 },
 "nbformat": 4,
 "nbformat_minor": 0
}
