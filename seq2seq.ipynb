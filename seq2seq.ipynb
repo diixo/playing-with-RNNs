{
 "cells": [
  {
   "cell_type": "code",
   "execution_count": 29,
   "metadata": {
    "collapsed": false
   },
   "outputs": [],
   "source": [
    "import tensorflow as tf\n",
    "import math\n",
    "import numpy as np\n",
    "from nltk.tokenize import RegexpTokenizer"
   ]
  },
  {
   "cell_type": "code",
   "execution_count": 35,
   "metadata": {
    "collapsed": false
   },
   "outputs": [
    {
     "data": {
      "text/plain": [
       "(110506, 2)"
      ]
     },
     "execution_count": 35,
     "metadata": {},
     "output_type": "execute_result"
    }
   ],
   "source": [
    "# bible\n",
    "def sparse(x):\n",
    "    t = [0] * vocab_size\n",
    "    t[x] = 1\n",
    "    return t\n",
    "def process(x):\n",
    "    t = [[w_i[i]] for i in x.split()]\n",
    "    t = [sparse(x) for x in t]\n",
    "    return t\n",
    "\n",
    "pairs = np.load('pairs.npy')\n",
    "w_i = np.load('word2index.npy').item()\n",
    "i_w = np.load('index2word.npy')\n",
    "vocab_size = len(i_w)\n",
    "pairs.shape"
   ]
  },
  {
   "cell_type": "code",
   "execution_count": 30,
   "metadata": {
    "collapsed": false
   },
   "outputs": [
    {
     "name": "stdout",
     "output_type": "stream",
     "text": [
      "2999\n"
     ]
    }
   ],
   "source": [
    "input_size = vocab_size\n",
    "print input_size\n",
    "dims = [300, 200]\n",
    "num_layers = 2"
   ]
  },
  {
   "cell_type": "code",
   "execution_count": 31,
   "metadata": {
    "collapsed": true
   },
   "outputs": [],
   "source": [
    "def recurrence(prev, inp):\n",
    "    i = tf.reshape(inp, shape=[1, -1])\n",
    "    p = tf.reshape(prev, shape=[1, -1])\n",
    "    z = tf.nn.sigmoid(tf.matmul(i, enc_layers[j]['Wxz']) + tf.matmul(p, enc_layers[j]['Whz']))\n",
    "    r = tf.nn.sigmoid(tf.matmul(i, enc_layers[j]['Wxr']) + tf.matmul(p, enc_layers[j]['Whr']))\n",
    "    h_ = tf.nn.tanh(tf.matmul(i, enc_layers[j]['Wxh']) +\n",
    "                    tf.matmul(tf.mul(p, r), enc_layers[j]['Whh']))\n",
    "    h = tf.mul(tf.sub(tf.ones_like(z), z), h_) + tf.mul(z, p)\n",
    "    return tf.reshape(h, [dims[j-1]])\n",
    "\n",
    "def recurrence2(prev, inp):\n",
    "    i = tf.reshape(inp, shape=[1, -1])\n",
    "    p = tf.reshape(prev, shape=[1, -1])\n",
    "    z = tf.nn.sigmoid(tf.matmul(i, dec_layers[j]['Wxz']) + tf.matmul(p, dec_layers[j]['Whz']))\n",
    "    r = tf.nn.sigmoid(tf.matmul(i, dec_layers[j]['Wxr']) + tf.matmul(p, dec_layers[j]['Whr']))\n",
    "    h_ = tf.nn.tanh(tf.matmul(i, dec_layers[j]['Wxh']) +\n",
    "                    tf.matmul(tf.mul(p, r), dec_layers[j]['Whh']))\n",
    "    h = tf.mul(tf.sub(tf.ones_like(z), z), h_) + tf.mul(z, p)\n",
    "    return tf.reshape(h, [dims[j-1]])"
   ]
  },
  {
   "cell_type": "code",
   "execution_count": 32,
   "metadata": {
    "collapsed": false
   },
   "outputs": [],
   "source": [
    "tf.reset_default_graph()\n",
    "with tf.device('/cpu:0'):\n",
    "    with tf.name_scope('encoder'):\n",
    "        enc_layers = []\n",
    "        incoming = tf.placeholder(shape=[None, input_size], dtype=tf.float32, name='encoder_incoming')\n",
    "        enc_layers.append({'states': incoming, 'dim': input_size})\n",
    "        \n",
    "        for j in range(1, num_layers + 1):\n",
    "            shape = [enc_layers[-1]['dim'], dims[j-1]]\n",
    "            layer = dict()\n",
    "            layer['Wxh'] = tf.Variable(tf.random_normal(\n",
    "                shape,\n",
    "                stddev=1.0 / math.sqrt(shape[0])), dtype=tf.float32)\n",
    "            layer['Whh'] = tf.Variable(tf.random_normal(\n",
    "                [dims[j-1], dims[j-1]], stddev=1.0 / math.sqrt(dims[j-1])), dtype=tf.float32)\n",
    "            \n",
    "        # layer associated with update gate\n",
    "            layer['Wxz'] = tf.Variable(tf.random_normal(shape,\n",
    "                stddev=1.0 / math.sqrt(shape[0])), dtype=tf.float32)\n",
    "            layer['Whz'] = tf.Variable(tf.random_normal(shape=[\n",
    "                dims[j-1], dims[j-1]], stddev=1.0 / math.sqrt(dims[j-1])), dtype=tf.float32)\n",
    "        # layer associated with the reset gate\n",
    "            layer['Wxr'] = tf.Variable(tf.random_normal(shape,\n",
    "                stddev=1.0 / math.sqrt(shape[0])), dtype=tf.float32)\n",
    "            layer['Whr'] = tf.Variable(tf.random_normal(shape=[\n",
    "                dims[j-1], dims[j-1]],\n",
    "                stddev=1.0 / math.sqrt(dims[j-1])), dtype=tf.float32)\n",
    "            layer['dim'] = dims[j-1]\n",
    "            layer['initial'] = tf.placeholder(shape=[dims[j-1]], dtype=tf.float32, name='initial'+str(j))\n",
    "            enc_layers.append(layer)\n",
    "            layer['states'] = tf.scan(recurrence, enc_layers[-2]['states'], initializer=layer['initial'], name='encoder_states'+str(j))\n",
    "            layer['last'] = tf.squeeze(tf.expand_dims(tf.nn.embedding_lookup(layer['states'], \n",
    "                                                                             tf.shape(layer['states'])[0] - 1), dim=0),\n",
    "                                      name='last'+str(j))"
   ]
  },
  {
   "cell_type": "code",
   "execution_count": 33,
   "metadata": {
    "collapsed": false
   },
   "outputs": [],
   "source": [
    "with tf.device('/cpu:0'):\n",
    "    with tf.name_scope('decoder'):\n",
    "        \n",
    "        dec_layers = []\n",
    "        decoder_input = tf.placeholder(shape=[None, input_size], dtype=tf.float32)\n",
    "        dec_layers.append({'states': decoder_input, 'dim': input_size})\n",
    "        \n",
    "        for j in range(1, num_layers + 1):\n",
    "            shape = [dec_layers[-1]['dim'], dims[j-1]]\n",
    "            layer = dict()\n",
    "            layer['Wxh'] = tf.Variable(tf.random_normal(\n",
    "                shape,\n",
    "                stddev=1.0 / math.sqrt(shape[0])), dtype=tf.float32)\n",
    "            layer['Whh'] = tf.Variable(tf.random_normal(\n",
    "                [dims[j-1], dims[j-1]], stddev=1.0 / math.sqrt(dims[j-1])), dtype=tf.float32)\n",
    "            \n",
    "        # layer associated with update gate\n",
    "            layer['Wxz'] = tf.Variable(tf.random_normal(shape,\n",
    "                stddev=1.0 / math.sqrt(shape[0])), dtype=tf.float32)\n",
    "            layer['Whz'] = tf.Variable(tf.random_normal(shape=[\n",
    "                dims[j-1], dims[j-1]], stddev=1.0 / math.sqrt(dims[j-1])), dtype=tf.float32)\n",
    "        # layer associated with the reset gate\n",
    "            layer['Wxr'] = tf.Variable(tf.random_normal(shape,\n",
    "                stddev=1.0 / math.sqrt(shape[0])), dtype=tf.float32)\n",
    "            layer['Whr'] = tf.Variable(tf.random_normal(shape=[\n",
    "                dims[j-1], dims[j-1]],\n",
    "                stddev=1.0 / math.sqrt(dims[j-1])), dtype=tf.float32)\n",
    "            layer['dim'] = dims[j-1]\n",
    "            dec_layers.append(layer)\n",
    "            \n",
    "            layer['states'] = tf.scan(recurrence2, dec_layers[-2]['states'], initializer=enc_layers[j]['last'], \n",
    "                                      name='decoder_states'+str(j))\n",
    "            \n",
    "\n",
    "        # softmax layer\n",
    "        Why = tf.Variable(tf.random_normal(\n",
    "            [dims[-1], input_size],\n",
    "            stddev=1.0 / math.sqrt(dims[-1])), dtype=tf.float32)\n",
    "        by = tf.Variable(tf.zeros(input_size), dtype=tf.float32)\n",
    "        outputs = tf.matmul(dec_layers[-1]['states'], Why) + by\n",
    "        \n",
    "        # decoding step (with 'teacher forcing')\n",
    "\n",
    "        decoder_target = tf.placeholder(shape=[None, input_size], dtype=tf.float32)\n",
    "#         target = tf.squeeze(tf.nn.embedding_lookup(np.identity(input_size).astype(np.float32), decoder_target), \n",
    "#                             squeeze_dims=[1])\n",
    "        \n",
    "        \n",
    "        loss = tf.reduce_mean(tf.nn.softmax_cross_entropy_with_logits(outputs, decoder_target))\n",
    "        optimizer_op = tf.train.AdagradOptimizer(0.1).minimize(loss)"
   ]
  },
  {
   "cell_type": "code",
   "execution_count": 34,
   "metadata": {
    "collapsed": false
   },
   "outputs": [],
   "source": [
    "sess =  tf.Session()\n",
    "sess.run(tf.initialize_all_variables())\n",
    "ix = 0\n",
    "print_step = 5000\n",
    "avg_loss = 0"
   ]
  },
  {
   "cell_type": "code",
   "execution_count": 25,
   "metadata": {
    "collapsed": true
   },
   "outputs": [],
   "source": [
    "def generate_out(inp):\n",
    "    inp = process(inp)\n",
    "    out = ['START_TOKEN']\n",
    "#     seed = [one_hot('eos')]\n",
    "    seed = [[w_i['START_TOKEN']]]\n",
    "    while True:\n",
    "        feed = {incoming : inp, initial: np.zeros(dim), decoder_input: seed}\n",
    "        o = sess.run(outputs, feed_dict=feed)[-1]\n",
    "        o = np.argmax(o)\n",
    "#         o = one_hot(id_token[o])\n",
    "#         r = un_process(o)\n",
    "        r = i_w[o]\n",
    "        o = [o]\n",
    "        seed.append(o)\n",
    "        out.append(r)\n",
    "        if r == 'END_TOKEN':\n",
    "            break\n",
    "    print ' '.join(out[1:-1])"
   ]
  },
  {
   "cell_type": "code",
   "execution_count": null,
   "metadata": {
    "collapsed": false
   },
   "outputs": [],
   "source": [
    "for i in range(pairs.shape[0]):\n",
    "    if ix == len(pairs):\n",
    "        print 'epoch ' + str(i + 1)\n",
    "        ix = 0\n",
    "    a = [sparse(x) for x in pairs[ix][0]]\n",
    "    b = [sparse(x) for x in pairs[ix][1]]\n",
    "#     a, b = np.array(pairs[ix][0]).reshape([-1, 1]), np.array(pairs[ix][1]).reshape([-1, 1])\n",
    "\n",
    "    feed = {incoming: a, decoder_target: b[1:], decoder_input : b[:-1]}\n",
    "    for j in enc_layers[1:]:\n",
    "        feed[j['initial']] = np.zeros(j['dim'])\n",
    "        \n",
    "    l, _ = sess.run([loss, optimizer_op], feed_dict=feed)\n",
    "    avg_loss += l\n",
    "    if i % print_step == 0 and i != 0:\n",
    "        print avg_loss / print_step\n",
    "        avg_loss = 0\n",
    "#         generate_out('god created man')\n",
    "    ix += 1"
   ]
  },
  {
   "cell_type": "code",
   "execution_count": 26,
   "metadata": {
    "collapsed": false
   },
   "outputs": [
    {
     "name": "stdout",
     "output_type": "stream",
     "text": [
      "saying ,\n"
     ]
    }
   ],
   "source": [
    "generate_out('the night')"
   ]
  },
  {
   "cell_type": "code",
   "execution_count": 10,
   "metadata": {
    "collapsed": false
   },
   "outputs": [
    {
     "data": {
      "text/plain": [
       "2996"
      ]
     },
     "execution_count": 10,
     "metadata": {},
     "output_type": "execute_result"
    }
   ],
   "source": [
    "w_i['START_TOKEN']"
   ]
  },
  {
   "cell_type": "code",
   "execution_count": null,
   "metadata": {
    "collapsed": true
   },
   "outputs": [],
   "source": []
  }
 ],
 "metadata": {
  "kernelspec": {
   "display_name": "Python 2",
   "language": "python",
   "name": "python2"
  },
  "language_info": {
   "codemirror_mode": {
    "name": "ipython",
    "version": 2
   },
   "file_extension": ".py",
   "mimetype": "text/x-python",
   "name": "python",
   "nbconvert_exporter": "python",
   "pygments_lexer": "ipython2",
   "version": "2.7.6"
  }
 },
 "nbformat": 4,
 "nbformat_minor": 0
}
