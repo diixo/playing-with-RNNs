{
 "cells": [
  {
   "cell_type": "code",
   "execution_count": 22,
   "metadata": {
    "collapsed": false
   },
   "outputs": [],
   "source": [
    "import tensorflow as tf\n",
    "import math\n",
    "import numpy as np\n",
    "from nltk.tokenize import RegexpTokenizer\n",
    "import pandas as pd\n",
    "import itertools\n",
    "from nltk.tokenize import RegexpTokenizer\n",
    "from functools import partial"
   ]
  },
  {
   "cell_type": "code",
   "execution_count": 20,
   "metadata": {
    "collapsed": false
   },
   "outputs": [
    {
     "data": {
      "text/plain": [
       "(110506, 2)"
      ]
     },
     "execution_count": 20,
     "metadata": {},
     "output_type": "execute_result"
    }
   ],
   "source": [
    "# bible\n",
    "def sparse(x):\n",
    "    t = [0] * vocab_size\n",
    "    t[x] = 1\n",
    "    return t\n",
    "def process(x):\n",
    "    t = [sparse(w_i[i]) for i in x.split()]\n",
    "    return t\n",
    "\n",
    "pairs = np.load('pairs.npy')\n",
    "w_i = np.load('word2index.npy').item()\n",
    "i_w = np.load('index2word.npy')\n",
    "vocab_size = len(i_w)\n",
    "pairs.shape"
   ]
  },
  {
   "cell_type": "code",
   "execution_count": 23,
   "metadata": {
    "collapsed": false
   },
   "outputs": [
    {
     "name": "stderr",
     "output_type": "stream",
     "text": [
      "Skipping line 1681: expected 2 fields, saw 3\n",
      "Skipping line 1765: expected 2 fields, saw 3\n",
      "Skipping line 1984: expected 2 fields, saw 3\n",
      "Skipping line 2046: expected 2 fields, saw 3\n",
      "Skipping line 2086: expected 2 fields, saw 3\n",
      "Skipping line 2313: expected 2 fields, saw 3\n",
      "Skipping line 2314: expected 2 fields, saw 3\n",
      "\n"
     ]
    }
   ],
   "source": [
    "# conv.txt\n",
    "tokenizer = RegexpTokenizer(r'\\w+')\n",
    "def process_sentence(x, eos=False):\n",
    "#     x = x.split()\n",
    "    x = tokenizer.tokenize(x)\n",
    "    x = [i.lower() for i in x]\n",
    "    if eos:\n",
    "        x = ['eos'] + x + ['eos']\n",
    "    return x\n",
    "\n",
    "def one_hot(x):\n",
    "    t = [0] * vocab_size\n",
    "    t[x] = 1\n",
    "    return t\n",
    "    \n",
    "def sent_encode(x):\n",
    "    x = [w_i[i] for i in x]\n",
    "    x = map(one_hot, x)\n",
    "    return x\n",
    "\n",
    "data=pd.read_csv('conv.txt', delimiter='\\t', error_bad_lines=False, header=None)\n",
    "data.dropna(inplace=True)\n",
    "inp = map(partial(process_sentence), data[0].values)\n",
    "out = map(partial(process_sentence, eos=True), data[1].values)\n",
    "# inp=map(process_sentence, data[0].values)\n",
    "# out=map(process_sentence, data[1].values)\n",
    "words=np.r_[inp, out]\n",
    "# words=np.array([w.split() for w in words])\n",
    "words = list(set(itertools.chain(*words)))\n",
    "vocab_size=len(words)\n",
    "i_w = dict(enumerate(words))\n",
    "w_i = {v:k for k, v in i_w.items()}\n",
    "inp = map(sent_encode, inp)\n",
    "out = map(sent_encode, out)"
   ]
  },
  {
   "cell_type": "code",
   "execution_count": 25,
   "metadata": {
    "collapsed": false
   },
   "outputs": [
    {
     "name": "stdout",
     "output_type": "stream",
     "text": [
      "3327\n"
     ]
    }
   ],
   "source": [
    "input_size = vocab_size\n",
    "print input_size\n",
    "dims = [300, 200, 300]\n",
    "num_layers = 3"
   ]
  },
  {
   "cell_type": "code",
   "execution_count": 26,
   "metadata": {
    "collapsed": true
   },
   "outputs": [],
   "source": [
    "def recurrence(prev, inp):\n",
    "    i = tf.reshape(inp, shape=[1, -1])\n",
    "    p = tf.reshape(prev, shape=[1, -1])\n",
    "    z = tf.nn.sigmoid(tf.matmul(i, enc_layers[j]['Wxz']) + tf.matmul(p, enc_layers[j]['Whz']))\n",
    "    r = tf.nn.sigmoid(tf.matmul(i, enc_layers[j]['Wxr']) + tf.matmul(p, enc_layers[j]['Whr']))\n",
    "    h_ = tf.nn.tanh(tf.matmul(i, enc_layers[j]['Wxh']) +\n",
    "                    tf.matmul(tf.mul(p, r), enc_layers[j]['Whh']))\n",
    "    h = tf.mul(tf.sub(tf.ones_like(z), z), h_) + tf.mul(z, p)\n",
    "    return tf.reshape(h, [dims[j-1]])\n",
    "\n",
    "def recurrence2(prev, inp):\n",
    "    i = tf.reshape(inp, shape=[1, -1])\n",
    "    p = tf.reshape(prev, shape=[1, -1])\n",
    "    z = tf.nn.sigmoid(tf.matmul(i, dec_layers[j]['Wxz']) + tf.matmul(p, dec_layers[j]['Whz']))\n",
    "    r = tf.nn.sigmoid(tf.matmul(i, dec_layers[j]['Wxr']) + tf.matmul(p, dec_layers[j]['Whr']))\n",
    "    h_ = tf.nn.tanh(tf.matmul(i, dec_layers[j]['Wxh']) +\n",
    "                    tf.matmul(tf.mul(p, r), dec_layers[j]['Whh']))\n",
    "    h = tf.mul(tf.sub(tf.ones_like(z), z), h_) + tf.mul(z, p)\n",
    "    return tf.reshape(h, [dims[j-1]])"
   ]
  },
  {
   "cell_type": "code",
   "execution_count": 27,
   "metadata": {
    "collapsed": false
   },
   "outputs": [],
   "source": [
    "tf.reset_default_graph()\n",
    "with tf.device('/cpu:0'):\n",
    "    with tf.name_scope('encoder'):\n",
    "        enc_layers = []\n",
    "        incoming = tf.placeholder(shape=[None, input_size], dtype=tf.float32, name='encoder_incoming')\n",
    "        enc_layers.append({'states': incoming, 'dim': input_size})\n",
    "        \n",
    "        for j in range(1, num_layers + 1):\n",
    "            shape = [enc_layers[-1]['dim'], dims[j-1]]\n",
    "            layer = dict()\n",
    "            layer['Wxh'] = tf.Variable(tf.random_normal(\n",
    "                shape,\n",
    "                stddev=1.0 / math.sqrt(shape[0])), dtype=tf.float32)\n",
    "            layer['Whh'] = tf.Variable(tf.random_normal(\n",
    "                [dims[j-1], dims[j-1]], stddev=1.0 / math.sqrt(dims[j-1])), dtype=tf.float32)\n",
    "            \n",
    "        # layer associated with update gate\n",
    "            layer['Wxz'] = tf.Variable(tf.random_normal(shape,\n",
    "                stddev=1.0 / math.sqrt(shape[0])), dtype=tf.float32)\n",
    "            layer['Whz'] = tf.Variable(tf.random_normal(shape=[\n",
    "                dims[j-1], dims[j-1]], stddev=1.0 / math.sqrt(dims[j-1])), dtype=tf.float32)\n",
    "        # layer associated with the reset gate\n",
    "            layer['Wxr'] = tf.Variable(tf.random_normal(shape,\n",
    "                stddev=1.0 / math.sqrt(shape[0])), dtype=tf.float32)\n",
    "            layer['Whr'] = tf.Variable(tf.random_normal(shape=[\n",
    "                dims[j-1], dims[j-1]],\n",
    "                stddev=1.0 / math.sqrt(dims[j-1])), dtype=tf.float32)\n",
    "            layer['dim'] = dims[j-1]\n",
    "            layer['initial'] = tf.placeholder(shape=[dims[j-1]], dtype=tf.float32, name='initial'+str(j))\n",
    "            enc_layers.append(layer)\n",
    "            layer['states'] = tf.scan(recurrence, enc_layers[-2]['states'], initializer=layer['initial'], name='encoder_states'+str(j))\n",
    "            layer['last'] = tf.squeeze(tf.expand_dims(tf.nn.embedding_lookup(layer['states'], \n",
    "                                                                             tf.shape(layer['states'])[0] - 1), dim=0),\n",
    "                                      name='last'+str(j))"
   ]
  },
  {
   "cell_type": "code",
   "execution_count": 28,
   "metadata": {
    "collapsed": false
   },
   "outputs": [],
   "source": [
    "with tf.device('/cpu:0'):\n",
    "    with tf.name_scope('decoder'):\n",
    "        \n",
    "        dec_layers = []\n",
    "        decoder_input = tf.placeholder(shape=[None, input_size], dtype=tf.float32, name='decoeder_input')\n",
    "        dec_layers.append({'states': decoder_input, 'dim': input_size})\n",
    "        \n",
    "        for j in range(1, num_layers + 1):\n",
    "            shape = [dec_layers[-1]['dim'], dims[j-1]]\n",
    "            layer = dict()\n",
    "            layer['Wxh'] = tf.Variable(tf.random_normal(\n",
    "                shape,\n",
    "                stddev=1.0 / math.sqrt(shape[0])), dtype=tf.float32)\n",
    "            layer['Whh'] = tf.Variable(tf.random_normal(\n",
    "                [dims[j-1], dims[j-1]], stddev=1.0 / math.sqrt(dims[j-1])), dtype=tf.float32)\n",
    "            \n",
    "        # layer associated with update gate\n",
    "            layer['Wxz'] = tf.Variable(tf.random_normal(shape,\n",
    "                stddev=1.0 / math.sqrt(shape[0])), dtype=tf.float32)\n",
    "            layer['Whz'] = tf.Variable(tf.random_normal(shape=[\n",
    "                dims[j-1], dims[j-1]], stddev=1.0 / math.sqrt(dims[j-1])), dtype=tf.float32)\n",
    "        # layer associated with the reset gate\n",
    "            layer['Wxr'] = tf.Variable(tf.random_normal(shape,\n",
    "                stddev=1.0 / math.sqrt(shape[0])), dtype=tf.float32)\n",
    "            layer['Whr'] = tf.Variable(tf.random_normal(shape=[\n",
    "                dims[j-1], dims[j-1]],\n",
    "                stddev=1.0 / math.sqrt(dims[j-1])), dtype=tf.float32)\n",
    "            layer['dim'] = dims[j-1]\n",
    "            dec_layers.append(layer)\n",
    "            \n",
    "            layer['states'] = tf.scan(recurrence2, dec_layers[-2]['states'], initializer=enc_layers[j]['last'], \n",
    "                                      name='decoder_states'+str(j))\n",
    "            \n",
    "\n",
    "        # softmax layer\n",
    "        Why = tf.Variable(tf.random_normal(\n",
    "            [dims[-1], input_size],\n",
    "            stddev=1.0 / math.sqrt(dims[-1])), dtype=tf.float32)\n",
    "        by = tf.Variable(tf.zeros(input_size), dtype=tf.float32)\n",
    "        outputs = tf.matmul(dec_layers[-1]['states'], Why) + by\n",
    "        \n",
    "        # decoding step (with 'teacher forcing')\n",
    "\n",
    "        decoder_target = tf.placeholder(shape=[None, input_size], dtype=tf.float32, name='decoder_target')\n",
    "        \n",
    "        loss = tf.reduce_mean(tf.nn.softmax_cross_entropy_with_logits(outputs, decoder_target))\n",
    "        optimizer_op = tf.train.AdagradOptimizer(0.1).minimize(loss)"
   ]
  },
  {
   "cell_type": "code",
   "execution_count": 29,
   "metadata": {
    "collapsed": false
   },
   "outputs": [],
   "source": [
    "saver = tf.train.Saver()\n",
    "sess =  tf.Session()\n",
    "# saver.restore(sess, 'checkpoint.ckpt')\n",
    "sess.run(tf.initialize_all_variables())\n",
    "ix = 0\n",
    "avg_loss = 0"
   ]
  },
  {
   "cell_type": "code",
   "execution_count": 32,
   "metadata": {
    "collapsed": true
   },
   "outputs": [],
   "source": [
    "def beam_search(N=5):\n",
    "    ''' greedy search to find top N outputs'''\n",
    "    pass\n",
    "\n",
    "def generate_out(inp):\n",
    "    inp = process_sentence(inp)\n",
    "    inp = sent_encode(inp)\n",
    "    out = ['eos']\n",
    "    seed = [one_hot(w_i['eos'])]\n",
    "    while len(seed) < 20:\n",
    "        feed = {k:v for k,v in zip([l['initial'] for l in enc_layers[1:]], [np.zeros(d) for d in dims])}\n",
    "        feed.update({enc_layers[0]['states'] : inp, dec_layers[0]['states']: seed})\n",
    "        o = sess.run(outputs, feed_dict=feed)[-1]\n",
    "        r = i_w[np.argmax(o)]\n",
    "        seed.append(o)\n",
    "        out.append(r)\n",
    "        if r == 'eos':\n",
    "            break\n",
    "    print ' '.join(out[1:-1])"
   ]
  },
  {
   "cell_type": "code",
   "execution_count": 42,
   "metadata": {
    "collapsed": false
   },
   "outputs": [
    {
     "name": "stdout",
     "output_type": "stream",
     "text": [
      "1.07981265824\n",
      "great and and am am am am t t t t t t t t be be answer\n",
      "0.699330968247\n",
      "i what and am am am am am am am am t t t t t t t\n",
      "0.633183161114\n",
      "great hi and\n",
      "0.542043530454\n",
      "i i i i i i i i i i i i i i my just just my\n",
      "0.470434768101\n",
      "i hi i am i i i i i i i i i i am i my my\n",
      "0.403817483911\n",
      "i people and is am am is is is is is is is is is is is is\n",
      "0.333009239973\n",
      "i i i am i i i i i i don i m m be sore big code\n",
      "0.271323352587\n",
      "i hi am am am am was is don don don i he smell smell smell smell smell\n",
      "0.219083797822\n",
      "i hi am am i don don i i i don don flying m m m m m\n"
     ]
    }
   ],
   "source": [
    "print_step = 1000\n",
    "for i in range(4*len(inp)):\n",
    "    ix = np.random.randint(0, len(inp))\n",
    "    a = inp[ix]\n",
    "    b = out[ix]\n",
    "    feed = {incoming: a, decoder_target: b[1:], decoder_input : b[:-1]}\n",
    "    for j in enc_layers[1:]:\n",
    "        feed[j['initial']] = np.zeros(j['dim'])\n",
    "        \n",
    "    l, _, o = sess.run([loss, optimizer_op, outputs], feed_dict=feed)\n",
    "    avg_loss += l\n",
    "    if i % print_step == 0 and i != 0:\n",
    "        print avg_loss / print_step\n",
    "        avg_loss = 0\n",
    "        saver.save(sess, 'checkpoint.ckpt')\n",
    "        generate_out('what are you doing?')\n",
    "        \n",
    "    ix += 1"
   ]
  },
  {
   "cell_type": "code",
   "execution_count": 49,
   "metadata": {
    "collapsed": false
   },
   "outputs": [
    {
     "data": {
      "text/plain": [
       "'model.ckpt'"
      ]
     },
     "execution_count": 49,
     "metadata": {},
     "output_type": "execute_result"
    }
   ],
   "source": [
    "# saver = tf.train.Saver()\n",
    "saver.save(sess, 'model.ckpt')"
   ]
  },
  {
   "cell_type": "code",
   "execution_count": 63,
   "metadata": {
    "collapsed": false
   },
   "outputs": [
    {
     "name": "stdout",
     "output_type": "stream",
     "text": [
      "the sky i i i i i i i i i i i i i i i i\n"
     ]
    }
   ],
   "source": [
    "generate_out('do you know her')"
   ]
  },
  {
   "cell_type": "code",
   "execution_count": 48,
   "metadata": {
    "collapsed": false
   },
   "outputs": [
    {
     "data": {
      "text/html": [
       "<div>\n",
       "<table border=\"1\" class=\"dataframe\">\n",
       "  <thead>\n",
       "    <tr style=\"text-align: right;\">\n",
       "      <th></th>\n",
       "      <th>0</th>\n",
       "      <th>1</th>\n",
       "    </tr>\n",
       "  </thead>\n",
       "  <tbody>\n",
       "    <tr>\n",
       "      <th>0</th>\n",
       "      <td>Where do you live?</td>\n",
       "      <td>I live in Pasadena.</td>\n",
       "    </tr>\n",
       "    <tr>\n",
       "      <th>1</th>\n",
       "      <td>Where is Pasadena?</td>\n",
       "      <td>It's in California.</td>\n",
       "    </tr>\n",
       "    <tr>\n",
       "      <th>2</th>\n",
       "      <td>Is it in northern California?</td>\n",
       "      <td>No. It's in southern California.</td>\n",
       "    </tr>\n",
       "    <tr>\n",
       "      <th>3</th>\n",
       "      <td>Is Pasadena a big city?</td>\n",
       "      <td>It's pretty big.</td>\n",
       "    </tr>\n",
       "    <tr>\n",
       "      <th>4</th>\n",
       "      <td>How big is \"pretty big\"?</td>\n",
       "      <td>It has about 140,000 people.</td>\n",
       "    </tr>\n",
       "  </tbody>\n",
       "</table>\n",
       "</div>"
      ],
      "text/plain": [
       "                               0                                 1\n",
       "0             Where do you live?               I live in Pasadena.\n",
       "1             Where is Pasadena?               It's in California.\n",
       "2  Is it in northern California?  No. It's in southern California.\n",
       "3        Is Pasadena a big city?                  It's pretty big.\n",
       "4       How big is \"pretty big\"?      It has about 140,000 people."
      ]
     },
     "execution_count": 48,
     "metadata": {},
     "output_type": "execute_result"
    }
   ],
   "source": [
    "data.head()"
   ]
  },
  {
   "cell_type": "code",
   "execution_count": 131,
   "metadata": {
    "collapsed": false
   },
   "outputs": [
    {
     "data": {
      "text/plain": [
       "['eos', 'where', 'do', 'you', 'live?', 'eos']"
      ]
     },
     "execution_count": 131,
     "metadata": {},
     "output_type": "execute_result"
    }
   ],
   "source": [
    "[i_w[x] for x in np.argmax(inp[0], axis=1)]"
   ]
  },
  {
   "cell_type": "code",
   "execution_count": null,
   "metadata": {
    "collapsed": true
   },
   "outputs": [],
   "source": []
  }
 ],
 "metadata": {
  "kernelspec": {
   "display_name": "Python 2",
   "language": "python",
   "name": "python2"
  },
  "language_info": {
   "codemirror_mode": {
    "name": "ipython",
    "version": 2
   },
   "file_extension": ".py",
   "mimetype": "text/x-python",
   "name": "python",
   "nbconvert_exporter": "python",
   "pygments_lexer": "ipython2",
   "version": "2.7.6"
  }
 },
 "nbformat": 4,
 "nbformat_minor": 0
}
